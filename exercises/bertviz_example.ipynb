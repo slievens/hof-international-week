{
  "nbformat": 4,
  "nbformat_minor": 0,
  "metadata": {
    "colab": {
      "provenance": []
    },
    "kernelspec": {
      "name": "python3",
      "display_name": "Python 3"
    },
    "language_info": {
      "name": "python"
    }
  },
  "cells": [
    {
      "cell_type": "code",
      "execution_count": null,
      "metadata": {
        "id": "3UTuKCnw6cqA"
      },
      "outputs": [],
      "source": [
        "from transformers import GPT2Tokenizer, GPT2Model\n",
        "from bertviz import head_view\n",
        "import torch\n"
      ]
    },
    {
      "cell_type": "code",
      "source": [
        "#!pip install bertviz"
      ],
      "metadata": {
        "id": "qiDKQhqq622m"
      },
      "execution_count": null,
      "outputs": []
    },
    {
      "cell_type": "code",
      "source": [
        "model_name = 'gpt2'\n",
        "model = GPT2Model.from_pretrained(model_name, output_attentions=True)\n",
        "tokenizer = GPT2Tokenizer.from_pretrained(model_name)\n"
      ],
      "metadata": {
        "id": "YoCyR2aP6sZc"
      },
      "execution_count": null,
      "outputs": []
    },
    {
      "cell_type": "code",
      "source": [
        "sentence = \"The doctor asked the nurse a question. He\"\n",
        "inputs = tokenizer.encode_plus(sentence, return_tensors='pt')\n",
        "outputs = model(**inputs)\n",
        "attention = outputs.attentions\n"
      ],
      "metadata": {
        "id": "Bj99G0D26zZw"
      },
      "execution_count": null,
      "outputs": []
    },
    {
      "cell_type": "code",
      "source": [
        "inputs # compare to tiktokenizer !"
      ],
      "metadata": {
        "id": "WPxRADBW77rw"
      },
      "execution_count": null,
      "outputs": []
    },
    {
      "cell_type": "code",
      "source": [
        "tokens = tokenizer.convert_ids_to_tokens(inputs['input_ids'][0])\n",
        "head_view(attention, tokens)"
      ],
      "metadata": {
        "id": "0hNFOss98e3e"
      },
      "execution_count": null,
      "outputs": []
    }
  ]
}