{
  "cells": [
    {
      "cell_type": "code",
      "execution_count": null,
      "metadata": {
        "id": "pwXx2KHw7m88"
      },
      "outputs": [],
      "source": [
        "import einops\n",
        "import numpy as np"
      ]
    },
    {
      "cell_type": "markdown",
      "metadata": {
        "id": "T69cxk-2_PCr"
      },
      "source": [
        "Compute the inner product of two vectors"
      ]
    },
    {
      "cell_type": "code",
      "execution_count": null,
      "metadata": {
        "id": "9WQVG2Xn7ozz"
      },
      "outputs": [],
      "source": [
        "def inner(a, b):\n",
        "  # YOUR CODE HERE "
      ]
    },
    {
      "cell_type": "code",
      "execution_count": null,
      "metadata": {
        "colab": {
          "base_uri": "https://localhost:8080/"
        },
        "id": "UoRIgwaN_ltY",
        "outputId": "5c82f37a-b49f-48bc-a0f0-652e53c0cef4"
      },
      "outputs": [],
      "source": [
        "rng = np.random.default_rng(42)\n",
        "for _ in range(100):\n",
        "  a = rng.standard_normal(size=10)\n",
        "  b = rng.standard_normal(size=10)\n",
        "  assert np.isclose(inner(a,b), np.inner(a,b)), \"Implementation not correct\"\n",
        "print(\"All tests passed\")"
      ]
    },
    {
      "cell_type": "markdown",
      "metadata": {
        "id": "hwcOJjtgAL-v"
      },
      "source": [
        "Transpose a matrix"
      ]
    },
    {
      "cell_type": "code",
      "execution_count": null,
      "metadata": {
        "id": "I_6Ks2M179uy"
      },
      "outputs": [],
      "source": [
        "def transpose(A):\n",
        "  # YOUR CODE HERE  "
      ]
    },
    {
      "cell_type": "code",
      "execution_count": null,
      "metadata": {
        "colab": {
          "base_uri": "https://localhost:8080/"
        },
        "id": "baio94Tv8EZ4",
        "outputId": "9eb35ec7-64e7-4bdf-fe04-037286e14ae8"
      },
      "outputs": [],
      "source": [
        "rng = np.random.default_rng(42)\n",
        "for _ in range(100):\n",
        "  A = rng.standard_normal(size=(10,5))\n",
        "  assert np.allclose(transpose(A), A.T), \"Implementation not correct\"\n",
        "print(\"All tests passed\")"
      ]
    },
    {
      "cell_type": "markdown",
      "metadata": {
        "id": "B0LFlV6JAvwC"
      },
      "source": [
        "Compute the sum of each column of a matrix.\n",
        "\n",
        "The result has the same number of elements as the number of columns in the original matrix."
      ]
    },
    {
      "cell_type": "code",
      "execution_count": null,
      "metadata": {
        "id": "rQjHv8LeA7Tg"
      },
      "outputs": [],
      "source": [
        "def sum_columns(A):\n",
        "  # YOUR CODE HERE  "
      ]
    },
    {
      "cell_type": "code",
      "execution_count": null,
      "metadata": {
        "colab": {
          "base_uri": "https://localhost:8080/"
        },
        "id": "qaDE9DfzBFtn",
        "outputId": "8e1b7396-b95f-459e-e679-8274d5c2fb0f"
      },
      "outputs": [],
      "source": [
        "rng = np.random.default_rng(42)\n",
        "for _ in range(100):\n",
        "  A = rng.standard_normal(size=(10,5))\n",
        "  assert np.allclose(sum_columns(A), np.sum(A, axis=0)), \"Implementation not correct\"\n",
        "print(\"All tests passed\")"
      ]
    },
    {
      "cell_type": "markdown",
      "metadata": {
        "id": "KiLgPsQrBcmm"
      },
      "source": [
        "Compute $\\mathbf{A}\\mathbf{A}^T$."
      ]
    },
    {
      "cell_type": "code",
      "execution_count": null,
      "metadata": {
        "id": "y7QaD-1SBlHv"
      },
      "outputs": [],
      "source": [
        "def compute_aat(A):\n",
        "  # YOUR CODE HERE "
      ]
    },
    {
      "cell_type": "code",
      "execution_count": null,
      "metadata": {
        "colab": {
          "base_uri": "https://localhost:8080/"
        },
        "id": "yIpBeUdXB1ev",
        "outputId": "0bc36d73-5855-449b-b249-17efda1334a3"
      },
      "outputs": [],
      "source": [
        "rng = np.random.default_rng(42)\n",
        "for _ in range(100):\n",
        "  A = rng.standard_normal(size=(10,5))\n",
        "  assert np.allclose(compute_aat(A), A @ A.T), \"Implementation not correct\"\n",
        "print(\"All tests passed\")"
      ]
    },
    {
      "cell_type": "markdown",
      "metadata": {
        "id": "fd4k-uLYCDch"
      },
      "source": [
        "Compute the trace of a (square) matrix.\n",
        "\n",
        "The trace of a matrix is the sum of elements on the diagonal."
      ]
    },
    {
      "cell_type": "code",
      "execution_count": null,
      "metadata": {
        "id": "6WsTexfCCKQo"
      },
      "outputs": [],
      "source": [
        "def trace(A):\n",
        "  # YOUR CODE HERE  "
      ]
    },
    {
      "cell_type": "code",
      "execution_count": null,
      "metadata": {
        "colab": {
          "base_uri": "https://localhost:8080/"
        },
        "id": "oc5grzwICaQQ",
        "outputId": "683cd5c4-8eb8-4df6-d166-862788755cbe"
      },
      "outputs": [],
      "source": [
        "rng = np.random.default_rng(42)\n",
        "for _ in range(100):\n",
        "  A = rng.standard_normal(size=(10,10))\n",
        "  assert np.allclose(trace(A), np.trace(A)), \"Implementation not correct\"\n",
        "print(\"All tests passed\")"
      ]
    },
    {
      "cell_type": "markdown",
      "metadata": {
        "id": "kMCjUkrTDLjF"
      },
      "source": [
        "Multiply two matrices element-wise (Hadamard product)"
      ]
    },
    {
      "cell_type": "code",
      "execution_count": null,
      "metadata": {
        "id": "Sfq4lbykDZlY"
      },
      "outputs": [],
      "source": [
        "def hadamard(A, B):\n",
        "  # YOUR CODE HERE  "
      ]
    },
    {
      "cell_type": "code",
      "execution_count": null,
      "metadata": {
        "colab": {
          "base_uri": "https://localhost:8080/"
        },
        "id": "Meg-a7W7Di4w",
        "outputId": "71a99e07-a8a5-4f33-c921-65a2568422f6"
      },
      "outputs": [],
      "source": [
        "rng = np.random.default_rng(42)\n",
        "for _ in range(100):\n",
        "  A = rng.standard_normal(size=(10,5))\n",
        "  B = rng.standard_normal(size=(10,5))\n",
        "  assert np.allclose(hadamard(A,B), A*B), \"Implementation not correct\"\n",
        "print(\"All tests passed\")"
      ]
    }
  ],
  "metadata": {
    "colab": {
      "provenance": []
    },
    "kernelspec": {
      "display_name": "Python 3",
      "name": "python3"
    },
    "language_info": {
      "name": "python",
      "version": "3.10.4"
    }
  },
  "nbformat": 4,
  "nbformat_minor": 0
}
