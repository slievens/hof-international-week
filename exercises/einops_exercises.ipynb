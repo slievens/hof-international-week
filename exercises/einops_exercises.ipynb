{
  "cells": [
    {
      "cell_type": "code",
      "execution_count": null,
      "metadata": {
        "id": "pwXx2KHw7m88"
      },
      "outputs": [],
      "source": [
        "import einops\n",
        "import numpy as np"
      ]
    },
    {
      "cell_type": "markdown",
      "metadata": {
        "id": "T69cxk-2_PCr"
      },
      "source": [
        "Compute the inner product of two vectors"
      ]
    },
    {
      "cell_type": "code",
      "execution_count": null,
      "metadata": {
        "id": "9WQVG2Xn7ozz"
      },
      "outputs": [],
      "source": [
        "def inner(a, b):\n",
        "  # YOUR CODE HERE "
      ]
    },
    {
      "cell_type": "code",
      "execution_count": null,
      "metadata": {
        "colab": {
          "base_uri": "https://localhost:8080/"
        },
        "id": "UoRIgwaN_ltY",
        "outputId": "5c82f37a-b49f-48bc-a0f0-652e53c0cef4"
      },
      "outputs": [],
      "source": [
        "rng = np.random.default_rng(42)\n",
        "for _ in range(100):\n",
        "  a = rng.standard_normal(size=10)\n",
        "  b = rng.standard_normal(size=10)\n",
        "  assert np.isclose(inner(a,b), np.inner(a,b)), \"Implementation not correct\"\n",
        "print(\"All tests passed\")"
      ]
    },
    {
      "cell_type": "markdown",
      "metadata": {
        "id": "hwcOJjtgAL-v"
      },
      "source": [
        "Transpose a matrix"
      ]
    },
    {
      "cell_type": "code",
      "execution_count": null,
      "metadata": {
        "id": "I_6Ks2M179uy"
      },
      "outputs": [],
      "source": [
        "def transpose(A):\n",
        "  # YOUR CODE HERE  "
      ]
    },
    {
      "cell_type": "code",
      "execution_count": null,
      "metadata": {
        "colab": {
          "base_uri": "https://localhost:8080/"
        },
        "id": "baio94Tv8EZ4",
        "outputId": "9eb35ec7-64e7-4bdf-fe04-037286e14ae8"
      },
      "outputs": [],
      "source": [
        "rng = np.random.default_rng(42)\n",
        "for _ in range(100):\n",
        "  A = rng.standard_normal(size=(10,5))\n",
        "  assert np.allclose(transpose(A), A.T), \"Implementation not correct\"\n",
        "print(\"All tests passed\")"
      ]
    },
    {
      "cell_type": "markdown",
      "metadata": {
        "id": "B0LFlV6JAvwC"
      },
      "source": [
        "Compute the sum of each column of a matrix.\n",
        "\n",
        "The result has the same number of elements as the number of columns in the original matrix."
      ]
    },
    {
      "cell_type": "code",
      "execution_count": null,
      "metadata": {
        "id": "rQjHv8LeA7Tg"
      },
      "outputs": [],
      "source": [
        "def sum_columns(A):\n",
        "  # YOUR CODE HERE  "
      ]
    },
    {
      "cell_type": "code",
      "execution_count": null,
      "metadata": {
        "colab": {
          "base_uri": "https://localhost:8080/"
        },
        "id": "qaDE9DfzBFtn",
        "outputId": "8e1b7396-b95f-459e-e679-8274d5c2fb0f"
      },
      "outputs": [],
      "source": [
        "rng = np.random.default_rng(42)\n",
        "for _ in range(100):\n",
        "  A = rng.standard_normal(size=(10,5))\n",
        "  assert np.allclose(sum_columns(A), np.sum(A, axis=0)), \"Implementation not correct\"\n",
        "print(\"All tests passed\")"
      ]
    },
    {
      "cell_type": "markdown",
      "metadata": {
        "id": "KiLgPsQrBcmm"
      },
      "source": [
        "Compute $\\mathbf{A}\\mathbf{A}^T$."
      ]
    },
    {
      "cell_type": "code",
      "execution_count": null,
      "metadata": {
        "id": "y7QaD-1SBlHv"
      },
      "outputs": [],
      "source": [
        "def compute_aat(A):\n",
        "  # YOUR CODE HERE "
      ]
    },
    {
      "cell_type": "code",
      "execution_count": null,
      "metadata": {
        "colab": {
          "base_uri": "https://localhost:8080/"
        },
        "id": "yIpBeUdXB1ev",
        "outputId": "0bc36d73-5855-449b-b249-17efda1334a3"
      },
      "outputs": [],
      "source": [
        "rng = np.random.default_rng(42)\n",
        "for _ in range(100):\n",
        "  A = rng.standard_normal(size=(10,5))\n",
        "  assert np.allclose(compute_aat(A), A @ A.T), \"Implementation not correct\"\n",
        "print(\"All tests passed\")"
      ]
    },
    {
      "cell_type": "markdown",
      "metadata": {
        "id": "fd4k-uLYCDch"
      },
      "source": [
        "Compute the trace of a (square) matrix.\n",
        "\n",
        "The trace of a matrix is the sum of elements on the diagonal."
      ]
    },
    {
      "cell_type": "code",
      "execution_count": null,
      "metadata": {
        "id": "6WsTexfCCKQo"
      },
      "outputs": [],
      "source": [
        "def trace(A):\n",
        "  # YOUR CODE HERE  "
      ]
    },
    {
      "cell_type": "code",
      "execution_count": null,
      "metadata": {
        "colab": {
          "base_uri": "https://localhost:8080/"
        },
        "id": "oc5grzwICaQQ",
        "outputId": "683cd5c4-8eb8-4df6-d166-862788755cbe"
      },
      "outputs": [],
      "source": [
        "rng = np.random.default_rng(42)\n",
        "for _ in range(100):\n",
        "  A = rng.standard_normal(size=(10,10))\n",
        "  assert np.allclose(trace(A), np.trace(A)), \"Implementation not correct\"\n",
        "print(\"All tests passed\")"
      ]
    },
    {
      "cell_type": "markdown",
      "metadata": {
        "id": "kMCjUkrTDLjF"
      },
      "source": [
        "Multiply two matrices element-wise (Hadamard product)"
      ]
    },
    {
      "cell_type": "code",
      "execution_count": null,
      "metadata": {
        "id": "Sfq4lbykDZlY"
      },
      "outputs": [],
      "source": [
        "def hadamard(A, B):\n",
        "  # YOUR CODE HERE  "
      ]
    },
    {
      "cell_type": "code",
      "execution_count": null,
      "metadata": {
        "colab": {
          "base_uri": "https://localhost:8080/"
        },
        "id": "Meg-a7W7Di4w",
        "outputId": "71a99e07-a8a5-4f33-c921-65a2568422f6"
      },
      "outputs": [],
      "source": [
        "rng = np.random.default_rng(42)\n",
        "for _ in range(100):\n",
        "  A = rng.standard_normal(size=(10,5))\n",
        "  B = rng.standard_normal(size=(10,5))\n",
        "  assert np.allclose(hadamard(A,B), A*B), \"Implementation not correct\"\n",
        "print(\"All tests passed\")"
      ]
    },
    {
      "cell_type": "markdown",
      "metadata": {},
      "source": [
        "## Exercises on other `einops` operations"
      ]
    },
    {
      "cell_type": "markdown",
      "metadata": {},
      "source": [
        "Create the following tensor using only `np.arange` and `einops.rearrange`:\n",
        "```\n",
        "[[3, 4],\n",
        " [5, 6],\n",
        " [7, 8]]\n",
        "```"
      ]
    },
    {
      "cell_type": "code",
      "execution_count": null,
      "metadata": {},
      "outputs": [],
      "source": []
    },
    {
      "cell_type": "markdown",
      "metadata": {},
      "source": [
        "Create the following tensor using only `np.arange` and `einops.rearrange`:\n",
        "```\n",
        "[[1, 2, 3],\n",
        " [4, 5, 6]]\n",
        "```"
      ]
    },
    {
      "cell_type": "code",
      "execution_count": null,
      "metadata": {},
      "outputs": [],
      "source": []
    },
    {
      "cell_type": "markdown",
      "metadata": {},
      "source": [
        "Create the following tensor using only `np.arange` and `einops.rearrange`:\n",
        "```\n",
        "[[[1], [2], [3], [4], [5], [6]]]\n",
        "```"
      ]
    },
    {
      "cell_type": "code",
      "execution_count": null,
      "metadata": {},
      "outputs": [],
      "source": []
    },
    {
      "cell_type": "markdown",
      "metadata": {},
      "source": [
        "Compute the average temperature for each week given a 1D tensor of temperatures.\n",
        "The length will be a multiple of 7 and the first 7 days are for the first week, second 7 days for the second week, etc."
      ]
    },
    {
      "cell_type": "code",
      "execution_count": null,
      "metadata": {},
      "outputs": [],
      "source": [
        "def average(temperatures):\n",
        "    ## YOUR CODE HERE"
      ]
    },
    {
      "cell_type": "code",
      "execution_count": null,
      "metadata": {},
      "outputs": [],
      "source": [
        "temps = np.array([71.0, 72, 70, 75, 71, 72, 70, 68, 65, 60, 68, 60, 55, 59, 75, 80, 85, 80, 78, 72, 83])\n",
        "expected = np.array([71.5714, 62.1429, 79.0])\n",
        "assert np.allclose(average(temps), expected), \"Oops, something is wrong\""
      ]
    },
    {
      "cell_type": "markdown",
      "metadata": {},
      "source": [
        " For each day, subtract the average for the week the day belongs to. Use only `einops` operations."
      ]
    },
    {
      "cell_type": "code",
      "execution_count": null,
      "metadata": {},
      "outputs": [],
      "source": [
        "def temperature_differences(temperatures):\n",
        "    ## YOUR CODE HERE"
      ]
    },
    {
      "cell_type": "code",
      "execution_count": null,
      "metadata": {},
      "outputs": [],
      "source": [
        "expected = np.array(\n",
        "    [\n",
        "        -0.5714,\n",
        "        0.4286,\n",
        "        -1.5714,\n",
        "        3.4286,\n",
        "        -0.5714,\n",
        "        0.4286,\n",
        "        -1.5714,\n",
        "        5.8571,\n",
        "        2.8571,\n",
        "        -2.1429,\n",
        "        5.8571,\n",
        "        -2.1429,\n",
        "        -7.1429,\n",
        "        -3.1429,\n",
        "        -4.0,\n",
        "        1.0,\n",
        "        6.0,\n",
        "        1.0,\n",
        "        -1.0,\n",
        "        -7.0,\n",
        "        4.0,\n",
        "    ]\n",
        ")\n",
        "actual = temperature_differences(temps)\n",
        "assert np.allclose(actual, expected, atol=1e-4), \"Oops, something is wrong\""
      ]
    },
    {
      "cell_type": "markdown",
      "metadata": {},
      "source": [
        "Normalize the temperatures as follows: for each day, subtract the weekly average and divide by the weekly standard deviation. Use `einops` operations. Pass `np.std` to `reduce`."
      ]
    },
    {
      "cell_type": "code",
      "execution_count": null,
      "metadata": {},
      "outputs": [],
      "source": [
        "def temperature_normalized(temperatures):\n",
        "    ## YOUR CODE HERE"
      ]
    },
    {
      "cell_type": "code",
      "execution_count": null,
      "metadata": {},
      "outputs": [],
      "source": [
        "def test_temperature_normalized(temps):\n",
        "    reshaped = temps.reshape(-1, 7)\n",
        "    mean = np.mean(reshaped, keepdims=True, axis=1)\n",
        "    std = np.std(reshaped, keepdims=True, axis=1)\n",
        "    expected = (reshaped - mean) / std\n",
        "    expected = expected.flatten()\n",
        "    assert np.allclose(expected, temperature_normalized(temps)), \"Oops, something is wrong\"\n",
        "    print(\"Tests passed\")\n",
        "\n",
        "test_temperature_normalized(temps)"
      ]
    },
    {
      "cell_type": "code",
      "execution_count": null,
      "metadata": {},
      "outputs": [],
      "source": []
    },
    {
      "cell_type": "markdown",
      "metadata": {},
      "source": []
    }
  ],
  "metadata": {
    "colab": {
      "provenance": []
    },
    "kernelspec": {
      "display_name": "Python 3",
      "name": "python3"
    },
    "language_info": {
      "name": "python",
      "version": "3.10.4"
    }
  },
  "nbformat": 4,
  "nbformat_minor": 0
}
